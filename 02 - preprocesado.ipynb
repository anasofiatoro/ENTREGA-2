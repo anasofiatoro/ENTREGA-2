{
  "cells": [
    {
      "cell_type": "markdown",
      "metadata": {
        "id": "view-in-github",
        "colab_type": "text"
      },
      "source": [
        "<a href=\"https://colab.research.google.com/github/anasofiatoro/ENTREGA-2/blob/main/02%20-%20preprocesado.ipynb\" target=\"_parent\"><img src=\"https://colab.research.google.com/assets/colab-badge.svg\" alt=\"Open In Colab\"/></a>"
      ]
    },
    {
      "cell_type": "code",
      "execution_count": null,
      "metadata": {
        "colab": {
          "background_save": true
        },
        "id": "85duKo3xOWfa"
      },
      "outputs": [],
      "source": [
        "!pip install opendatasets\n",
        "import opendatasets as od\n"
      ]
    },
    {
      "cell_type": "code",
      "execution_count": null,
      "metadata": {
        "colab": {
          "base_uri": "https://localhost:8080/"
        },
        "id": "P4DaLnySRMq2",
        "outputId": "f40cc8e6-3aad-483c-f3bd-bbd63f3ed7f8"
      },
      "outputs": [
        {
          "name": "stdout",
          "output_type": "stream",
          "text": [
            "Please provide your Kaggle credentials to download this dataset. Learn more: http://bit.ly/kaggle-creds\n",
            "Your Kaggle username: anasofiatorolastra\n",
            "Your Kaggle Key: ··········\n",
            "Downloading udea-ai4eng-20242.zip to ./udea-ai4eng-20242\n"
          ]
        },
        {
          "name": "stderr",
          "output_type": "stream",
          "text": [
            "100%|██████████| 20.1M/20.1M [00:00<00:00, 203MB/s]"
          ]
        },
        {
          "name": "stdout",
          "output_type": "stream",
          "text": [
            "\n",
            "Extracting archive ./udea-ai4eng-20242/udea-ai4eng-20242.zip to ./udea-ai4eng-20242\n"
          ]
        },
        {
          "name": "stderr",
          "output_type": "stream",
          "text": [
            "\n"
          ]
        }
      ],
      "source": [
        "dataset_url = 'https://www.kaggle.com/competitions/udea-ai4eng-20242'\n",
        "od.download(dataset_url)"
      ]
    },
    {
      "cell_type": "code",
      "execution_count": null,
      "metadata": {
        "colab": {
          "base_uri": "https://localhost:8080/"
        },
        "id": "XYdLfVwpRoFV",
        "outputId": "67a22ea7-f88e-4383-ecb9-6b4d4b070b53"
      },
      "outputs": [
        {
          "data": {
            "text/plain": [
              "['test.csv', 'submission_example.csv', 'train.csv']"
            ]
          },
          "execution_count": 4,
          "metadata": {},
          "output_type": "execute_result"
        }
      ],
      "source": [
        "import os\n",
        "os.chdir('/content/udea-ai4eng-20242')\n",
        "os.listdir()"
      ]
    },
    {
      "cell_type": "code",
      "execution_count": null,
      "metadata": {
        "colab": {
          "base_uri": "https://localhost:8080/",
          "height": 669
        },
        "id": "t3wwDtqFRqUy",
        "outputId": "5df018ec-71d5-405a-a467-1defa7c51adb"
      },
      "outputs": [
        {
          "data": {
            "application/vnd.google.colaboratory.intrinsic+json": {
              "type": "dataframe"
            },
            "text/html": [
              "\n",
              "  <div id=\"df-d4271143-f07d-4683-9f56-92a60e9188c7\" class=\"colab-df-container\">\n",
              "    <div>\n",
              "<style scoped>\n",
              "    .dataframe tbody tr th:only-of-type {\n",
              "        vertical-align: middle;\n",
              "    }\n",
              "\n",
              "    .dataframe tbody tr th {\n",
              "        vertical-align: top;\n",
              "    }\n",
              "\n",
              "    .dataframe thead th {\n",
              "        text-align: right;\n",
              "    }\n",
              "</style>\n",
              "<table border=\"1\" class=\"dataframe\">\n",
              "  <thead>\n",
              "    <tr style=\"text-align: right;\">\n",
              "      <th></th>\n",
              "      <th>ID</th>\n",
              "      <th>PERIODO</th>\n",
              "      <th>ESTU_PRGM_ACADEMICO</th>\n",
              "      <th>ESTU_PRGM_DEPARTAMENTO</th>\n",
              "      <th>ESTU_VALORMATRICULAUNIVERSIDAD</th>\n",
              "      <th>ESTU_HORASSEMANATRABAJA</th>\n",
              "      <th>FAMI_ESTRATOVIVIENDA</th>\n",
              "      <th>FAMI_TIENEINTERNET</th>\n",
              "      <th>FAMI_EDUCACIONPADRE</th>\n",
              "      <th>FAMI_EDUCACIONMADRE</th>\n",
              "      <th>ESTU_PAGOMATRICULAPROPIO</th>\n",
              "      <th>RENDIMIENTO_GLOBAL</th>\n",
              "    </tr>\n",
              "  </thead>\n",
              "  <tbody>\n",
              "    <tr>\n",
              "      <th>0</th>\n",
              "      <td>904256</td>\n",
              "      <td>20212</td>\n",
              "      <td>ENFERMERIA</td>\n",
              "      <td>BOGOTÁ</td>\n",
              "      <td>Entre 5.5 millones y menos de 7 millones</td>\n",
              "      <td>Menos de 10 horas</td>\n",
              "      <td>Estrato 3</td>\n",
              "      <td>Si</td>\n",
              "      <td>Técnica o tecnológica incompleta</td>\n",
              "      <td>Postgrado</td>\n",
              "      <td>No</td>\n",
              "      <td>medio-alto</td>\n",
              "    </tr>\n",
              "    <tr>\n",
              "      <th>1</th>\n",
              "      <td>645256</td>\n",
              "      <td>20212</td>\n",
              "      <td>DERECHO</td>\n",
              "      <td>ATLANTICO</td>\n",
              "      <td>Entre 2.5 millones y menos de 4 millones</td>\n",
              "      <td>0</td>\n",
              "      <td>Estrato 3</td>\n",
              "      <td>No</td>\n",
              "      <td>Técnica o tecnológica completa</td>\n",
              "      <td>Técnica o tecnológica incompleta</td>\n",
              "      <td>No</td>\n",
              "      <td>bajo</td>\n",
              "    </tr>\n",
              "    <tr>\n",
              "      <th>2</th>\n",
              "      <td>308367</td>\n",
              "      <td>20203</td>\n",
              "      <td>MERCADEO Y PUBLICIDAD</td>\n",
              "      <td>BOGOTÁ</td>\n",
              "      <td>Entre 2.5 millones y menos de 4 millones</td>\n",
              "      <td>Más de 30 horas</td>\n",
              "      <td>Estrato 3</td>\n",
              "      <td>Si</td>\n",
              "      <td>Secundaria (Bachillerato) completa</td>\n",
              "      <td>Secundaria (Bachillerato) completa</td>\n",
              "      <td>No</td>\n",
              "      <td>bajo</td>\n",
              "    </tr>\n",
              "    <tr>\n",
              "      <th>3</th>\n",
              "      <td>470353</td>\n",
              "      <td>20195</td>\n",
              "      <td>ADMINISTRACION DE EMPRESAS</td>\n",
              "      <td>SANTANDER</td>\n",
              "      <td>Entre 4 millones y menos de 5.5 millones</td>\n",
              "      <td>0</td>\n",
              "      <td>Estrato 4</td>\n",
              "      <td>Si</td>\n",
              "      <td>No sabe</td>\n",
              "      <td>Secundaria (Bachillerato) completa</td>\n",
              "      <td>No</td>\n",
              "      <td>alto</td>\n",
              "    </tr>\n",
              "    <tr>\n",
              "      <th>4</th>\n",
              "      <td>989032</td>\n",
              "      <td>20212</td>\n",
              "      <td>PSICOLOGIA</td>\n",
              "      <td>ANTIOQUIA</td>\n",
              "      <td>Entre 2.5 millones y menos de 4 millones</td>\n",
              "      <td>Entre 21 y 30 horas</td>\n",
              "      <td>Estrato 3</td>\n",
              "      <td>Si</td>\n",
              "      <td>Primaria completa</td>\n",
              "      <td>Primaria completa</td>\n",
              "      <td>No</td>\n",
              "      <td>medio-bajo</td>\n",
              "    </tr>\n",
              "    <tr>\n",
              "      <th>...</th>\n",
              "      <td>...</td>\n",
              "      <td>...</td>\n",
              "      <td>...</td>\n",
              "      <td>...</td>\n",
              "      <td>...</td>\n",
              "      <td>...</td>\n",
              "      <td>...</td>\n",
              "      <td>...</td>\n",
              "      <td>...</td>\n",
              "      <td>...</td>\n",
              "      <td>...</td>\n",
              "      <td>...</td>\n",
              "    </tr>\n",
              "    <tr>\n",
              "      <th>692495</th>\n",
              "      <td>25096</td>\n",
              "      <td>20195</td>\n",
              "      <td>BIOLOGIA</td>\n",
              "      <td>LA GUAJIRA</td>\n",
              "      <td>Entre 500 mil y menos de 1 millón</td>\n",
              "      <td>Entre 11 y 20 horas</td>\n",
              "      <td>Estrato 2</td>\n",
              "      <td>Si</td>\n",
              "      <td>Secundaria (Bachillerato) completa</td>\n",
              "      <td>Secundaria (Bachillerato) incompleta</td>\n",
              "      <td>Si</td>\n",
              "      <td>medio-alto</td>\n",
              "    </tr>\n",
              "    <tr>\n",
              "      <th>692496</th>\n",
              "      <td>754213</td>\n",
              "      <td>20212</td>\n",
              "      <td>PSICOLOGIA</td>\n",
              "      <td>NORTE SANTANDER</td>\n",
              "      <td>Entre 2.5 millones y menos de 4 millones</td>\n",
              "      <td>Más de 30 horas</td>\n",
              "      <td>Estrato 3</td>\n",
              "      <td>Si</td>\n",
              "      <td>Primaria incompleta</td>\n",
              "      <td>Secundaria (Bachillerato) incompleta</td>\n",
              "      <td>No</td>\n",
              "      <td>bajo</td>\n",
              "    </tr>\n",
              "    <tr>\n",
              "      <th>692497</th>\n",
              "      <td>504185</td>\n",
              "      <td>20183</td>\n",
              "      <td>ADMINISTRACIÓN EN SALUD OCUPACIONAL</td>\n",
              "      <td>BOGOTÁ</td>\n",
              "      <td>Entre 1 millón y menos de 2.5 millones</td>\n",
              "      <td>Menos de 10 horas</td>\n",
              "      <td>Estrato 3</td>\n",
              "      <td>Si</td>\n",
              "      <td>Secundaria (Bachillerato) completa</td>\n",
              "      <td>Secundaria (Bachillerato) incompleta</td>\n",
              "      <td>Si</td>\n",
              "      <td>medio-bajo</td>\n",
              "    </tr>\n",
              "    <tr>\n",
              "      <th>692498</th>\n",
              "      <td>986620</td>\n",
              "      <td>20195</td>\n",
              "      <td>PSICOLOGIA</td>\n",
              "      <td>TOLIMA</td>\n",
              "      <td>Entre 2.5 millones y menos de 4 millones</td>\n",
              "      <td>Menos de 10 horas</td>\n",
              "      <td>Estrato 1</td>\n",
              "      <td>No</td>\n",
              "      <td>Primaria completa</td>\n",
              "      <td>Primaria completa</td>\n",
              "      <td>Si</td>\n",
              "      <td>bajo</td>\n",
              "    </tr>\n",
              "    <tr>\n",
              "      <th>692499</th>\n",
              "      <td>933374</td>\n",
              "      <td>20195</td>\n",
              "      <td>PSICOLOGIA</td>\n",
              "      <td>ANTIOQUIA</td>\n",
              "      <td>Entre 5.5 millones y menos de 7 millones</td>\n",
              "      <td>Más de 30 horas</td>\n",
              "      <td>Estrato 4</td>\n",
              "      <td>Si</td>\n",
              "      <td>Secundaria (Bachillerato) completa</td>\n",
              "      <td>Técnica o tecnológica completa</td>\n",
              "      <td>No</td>\n",
              "      <td>alto</td>\n",
              "    </tr>\n",
              "  </tbody>\n",
              "</table>\n",
              "<p>692500 rows × 12 columns</p>\n",
              "</div>\n",
              "    <div class=\"colab-df-buttons\">\n",
              "\n",
              "  <div class=\"colab-df-container\">\n",
              "    <button class=\"colab-df-convert\" onclick=\"convertToInteractive('df-d4271143-f07d-4683-9f56-92a60e9188c7')\"\n",
              "            title=\"Convert this dataframe to an interactive table.\"\n",
              "            style=\"display:none;\">\n",
              "\n",
              "  <svg xmlns=\"http://www.w3.org/2000/svg\" height=\"24px\" viewBox=\"0 -960 960 960\">\n",
              "    <path d=\"M120-120v-720h720v720H120Zm60-500h600v-160H180v160Zm220 220h160v-160H400v160Zm0 220h160v-160H400v160ZM180-400h160v-160H180v160Zm440 0h160v-160H620v160ZM180-180h160v-160H180v160Zm440 0h160v-160H620v160Z\"/>\n",
              "  </svg>\n",
              "    </button>\n",
              "\n",
              "  <style>\n",
              "    .colab-df-container {\n",
              "      display:flex;\n",
              "      gap: 12px;\n",
              "    }\n",
              "\n",
              "    .colab-df-convert {\n",
              "      background-color: #E8F0FE;\n",
              "      border: none;\n",
              "      border-radius: 50%;\n",
              "      cursor: pointer;\n",
              "      display: none;\n",
              "      fill: #1967D2;\n",
              "      height: 32px;\n",
              "      padding: 0 0 0 0;\n",
              "      width: 32px;\n",
              "    }\n",
              "\n",
              "    .colab-df-convert:hover {\n",
              "      background-color: #E2EBFA;\n",
              "      box-shadow: 0px 1px 2px rgba(60, 64, 67, 0.3), 0px 1px 3px 1px rgba(60, 64, 67, 0.15);\n",
              "      fill: #174EA6;\n",
              "    }\n",
              "\n",
              "    .colab-df-buttons div {\n",
              "      margin-bottom: 4px;\n",
              "    }\n",
              "\n",
              "    [theme=dark] .colab-df-convert {\n",
              "      background-color: #3B4455;\n",
              "      fill: #D2E3FC;\n",
              "    }\n",
              "\n",
              "    [theme=dark] .colab-df-convert:hover {\n",
              "      background-color: #434B5C;\n",
              "      box-shadow: 0px 1px 3px 1px rgba(0, 0, 0, 0.15);\n",
              "      filter: drop-shadow(0px 1px 2px rgba(0, 0, 0, 0.3));\n",
              "      fill: #FFFFFF;\n",
              "    }\n",
              "  </style>\n",
              "\n",
              "    <script>\n",
              "      const buttonEl =\n",
              "        document.querySelector('#df-d4271143-f07d-4683-9f56-92a60e9188c7 button.colab-df-convert');\n",
              "      buttonEl.style.display =\n",
              "        google.colab.kernel.accessAllowed ? 'block' : 'none';\n",
              "\n",
              "      async function convertToInteractive(key) {\n",
              "        const element = document.querySelector('#df-d4271143-f07d-4683-9f56-92a60e9188c7');\n",
              "        const dataTable =\n",
              "          await google.colab.kernel.invokeFunction('convertToInteractive',\n",
              "                                                    [key], {});\n",
              "        if (!dataTable) return;\n",
              "\n",
              "        const docLinkHtml = 'Like what you see? Visit the ' +\n",
              "          '<a target=\"_blank\" href=https://colab.research.google.com/notebooks/data_table.ipynb>data table notebook</a>'\n",
              "          + ' to learn more about interactive tables.';\n",
              "        element.innerHTML = '';\n",
              "        dataTable['output_type'] = 'display_data';\n",
              "        await google.colab.output.renderOutput(dataTable, element);\n",
              "        const docLink = document.createElement('div');\n",
              "        docLink.innerHTML = docLinkHtml;\n",
              "        element.appendChild(docLink);\n",
              "      }\n",
              "    </script>\n",
              "  </div>\n",
              "\n",
              "\n",
              "<div id=\"df-40681d37-d97f-4d4a-bca2-70c454d043bd\">\n",
              "  <button class=\"colab-df-quickchart\" onclick=\"quickchart('df-40681d37-d97f-4d4a-bca2-70c454d043bd')\"\n",
              "            title=\"Suggest charts\"\n",
              "            style=\"display:none;\">\n",
              "\n",
              "<svg xmlns=\"http://www.w3.org/2000/svg\" height=\"24px\"viewBox=\"0 0 24 24\"\n",
              "     width=\"24px\">\n",
              "    <g>\n",
              "        <path d=\"M19 3H5c-1.1 0-2 .9-2 2v14c0 1.1.9 2 2 2h14c1.1 0 2-.9 2-2V5c0-1.1-.9-2-2-2zM9 17H7v-7h2v7zm4 0h-2V7h2v10zm4 0h-2v-4h2v4z\"/>\n",
              "    </g>\n",
              "</svg>\n",
              "  </button>\n",
              "\n",
              "<style>\n",
              "  .colab-df-quickchart {\n",
              "      --bg-color: #E8F0FE;\n",
              "      --fill-color: #1967D2;\n",
              "      --hover-bg-color: #E2EBFA;\n",
              "      --hover-fill-color: #174EA6;\n",
              "      --disabled-fill-color: #AAA;\n",
              "      --disabled-bg-color: #DDD;\n",
              "  }\n",
              "\n",
              "  [theme=dark] .colab-df-quickchart {\n",
              "      --bg-color: #3B4455;\n",
              "      --fill-color: #D2E3FC;\n",
              "      --hover-bg-color: #434B5C;\n",
              "      --hover-fill-color: #FFFFFF;\n",
              "      --disabled-bg-color: #3B4455;\n",
              "      --disabled-fill-color: #666;\n",
              "  }\n",
              "\n",
              "  .colab-df-quickchart {\n",
              "    background-color: var(--bg-color);\n",
              "    border: none;\n",
              "    border-radius: 50%;\n",
              "    cursor: pointer;\n",
              "    display: none;\n",
              "    fill: var(--fill-color);\n",
              "    height: 32px;\n",
              "    padding: 0;\n",
              "    width: 32px;\n",
              "  }\n",
              "\n",
              "  .colab-df-quickchart:hover {\n",
              "    background-color: var(--hover-bg-color);\n",
              "    box-shadow: 0 1px 2px rgba(60, 64, 67, 0.3), 0 1px 3px 1px rgba(60, 64, 67, 0.15);\n",
              "    fill: var(--button-hover-fill-color);\n",
              "  }\n",
              "\n",
              "  .colab-df-quickchart-complete:disabled,\n",
              "  .colab-df-quickchart-complete:disabled:hover {\n",
              "    background-color: var(--disabled-bg-color);\n",
              "    fill: var(--disabled-fill-color);\n",
              "    box-shadow: none;\n",
              "  }\n",
              "\n",
              "  .colab-df-spinner {\n",
              "    border: 2px solid var(--fill-color);\n",
              "    border-color: transparent;\n",
              "    border-bottom-color: var(--fill-color);\n",
              "    animation:\n",
              "      spin 1s steps(1) infinite;\n",
              "  }\n",
              "\n",
              "  @keyframes spin {\n",
              "    0% {\n",
              "      border-color: transparent;\n",
              "      border-bottom-color: var(--fill-color);\n",
              "      border-left-color: var(--fill-color);\n",
              "    }\n",
              "    20% {\n",
              "      border-color: transparent;\n",
              "      border-left-color: var(--fill-color);\n",
              "      border-top-color: var(--fill-color);\n",
              "    }\n",
              "    30% {\n",
              "      border-color: transparent;\n",
              "      border-left-color: var(--fill-color);\n",
              "      border-top-color: var(--fill-color);\n",
              "      border-right-color: var(--fill-color);\n",
              "    }\n",
              "    40% {\n",
              "      border-color: transparent;\n",
              "      border-right-color: var(--fill-color);\n",
              "      border-top-color: var(--fill-color);\n",
              "    }\n",
              "    60% {\n",
              "      border-color: transparent;\n",
              "      border-right-color: var(--fill-color);\n",
              "    }\n",
              "    80% {\n",
              "      border-color: transparent;\n",
              "      border-right-color: var(--fill-color);\n",
              "      border-bottom-color: var(--fill-color);\n",
              "    }\n",
              "    90% {\n",
              "      border-color: transparent;\n",
              "      border-bottom-color: var(--fill-color);\n",
              "    }\n",
              "  }\n",
              "</style>\n",
              "\n",
              "  <script>\n",
              "    async function quickchart(key) {\n",
              "      const quickchartButtonEl =\n",
              "        document.querySelector('#' + key + ' button');\n",
              "      quickchartButtonEl.disabled = true;  // To prevent multiple clicks.\n",
              "      quickchartButtonEl.classList.add('colab-df-spinner');\n",
              "      try {\n",
              "        const charts = await google.colab.kernel.invokeFunction(\n",
              "            'suggestCharts', [key], {});\n",
              "      } catch (error) {\n",
              "        console.error('Error during call to suggestCharts:', error);\n",
              "      }\n",
              "      quickchartButtonEl.classList.remove('colab-df-spinner');\n",
              "      quickchartButtonEl.classList.add('colab-df-quickchart-complete');\n",
              "    }\n",
              "    (() => {\n",
              "      let quickchartButtonEl =\n",
              "        document.querySelector('#df-40681d37-d97f-4d4a-bca2-70c454d043bd button');\n",
              "      quickchartButtonEl.style.display =\n",
              "        google.colab.kernel.accessAllowed ? 'block' : 'none';\n",
              "    })();\n",
              "  </script>\n",
              "</div>\n",
              "\n",
              "    </div>\n",
              "  </div>\n"
            ],
            "text/plain": [
              "            ID  PERIODO                  ESTU_PRGM_ACADEMICO  \\\n",
              "0       904256    20212                           ENFERMERIA   \n",
              "1       645256    20212                              DERECHO   \n",
              "2       308367    20203                MERCADEO Y PUBLICIDAD   \n",
              "3       470353    20195           ADMINISTRACION DE EMPRESAS   \n",
              "4       989032    20212                           PSICOLOGIA   \n",
              "...        ...      ...                                  ...   \n",
              "692495   25096    20195                             BIOLOGIA   \n",
              "692496  754213    20212                           PSICOLOGIA   \n",
              "692497  504185    20183  ADMINISTRACIÓN EN SALUD OCUPACIONAL   \n",
              "692498  986620    20195                           PSICOLOGIA   \n",
              "692499  933374    20195                           PSICOLOGIA   \n",
              "\n",
              "       ESTU_PRGM_DEPARTAMENTO            ESTU_VALORMATRICULAUNIVERSIDAD  \\\n",
              "0                      BOGOTÁ  Entre 5.5 millones y menos de 7 millones   \n",
              "1                   ATLANTICO  Entre 2.5 millones y menos de 4 millones   \n",
              "2                      BOGOTÁ  Entre 2.5 millones y menos de 4 millones   \n",
              "3                   SANTANDER  Entre 4 millones y menos de 5.5 millones   \n",
              "4                   ANTIOQUIA  Entre 2.5 millones y menos de 4 millones   \n",
              "...                       ...                                       ...   \n",
              "692495             LA GUAJIRA         Entre 500 mil y menos de 1 millón   \n",
              "692496        NORTE SANTANDER  Entre 2.5 millones y menos de 4 millones   \n",
              "692497                 BOGOTÁ    Entre 1 millón y menos de 2.5 millones   \n",
              "692498                 TOLIMA  Entre 2.5 millones y menos de 4 millones   \n",
              "692499              ANTIOQUIA  Entre 5.5 millones y menos de 7 millones   \n",
              "\n",
              "       ESTU_HORASSEMANATRABAJA FAMI_ESTRATOVIVIENDA FAMI_TIENEINTERNET  \\\n",
              "0            Menos de 10 horas            Estrato 3                 Si   \n",
              "1                            0            Estrato 3                 No   \n",
              "2              Más de 30 horas            Estrato 3                 Si   \n",
              "3                            0            Estrato 4                 Si   \n",
              "4          Entre 21 y 30 horas            Estrato 3                 Si   \n",
              "...                        ...                  ...                ...   \n",
              "692495     Entre 11 y 20 horas            Estrato 2                 Si   \n",
              "692496         Más de 30 horas            Estrato 3                 Si   \n",
              "692497       Menos de 10 horas            Estrato 3                 Si   \n",
              "692498       Menos de 10 horas            Estrato 1                 No   \n",
              "692499         Más de 30 horas            Estrato 4                 Si   \n",
              "\n",
              "                       FAMI_EDUCACIONPADRE  \\\n",
              "0         Técnica o tecnológica incompleta   \n",
              "1           Técnica o tecnológica completa   \n",
              "2       Secundaria (Bachillerato) completa   \n",
              "3                                  No sabe   \n",
              "4                        Primaria completa   \n",
              "...                                    ...   \n",
              "692495  Secundaria (Bachillerato) completa   \n",
              "692496                 Primaria incompleta   \n",
              "692497  Secundaria (Bachillerato) completa   \n",
              "692498                   Primaria completa   \n",
              "692499  Secundaria (Bachillerato) completa   \n",
              "\n",
              "                         FAMI_EDUCACIONMADRE ESTU_PAGOMATRICULAPROPIO  \\\n",
              "0                                  Postgrado                       No   \n",
              "1           Técnica o tecnológica incompleta                       No   \n",
              "2         Secundaria (Bachillerato) completa                       No   \n",
              "3         Secundaria (Bachillerato) completa                       No   \n",
              "4                          Primaria completa                       No   \n",
              "...                                      ...                      ...   \n",
              "692495  Secundaria (Bachillerato) incompleta                       Si   \n",
              "692496  Secundaria (Bachillerato) incompleta                       No   \n",
              "692497  Secundaria (Bachillerato) incompleta                       Si   \n",
              "692498                     Primaria completa                       Si   \n",
              "692499        Técnica o tecnológica completa                       No   \n",
              "\n",
              "       RENDIMIENTO_GLOBAL  \n",
              "0              medio-alto  \n",
              "1                    bajo  \n",
              "2                    bajo  \n",
              "3                    alto  \n",
              "4              medio-bajo  \n",
              "...                   ...  \n",
              "692495         medio-alto  \n",
              "692496               bajo  \n",
              "692497         medio-bajo  \n",
              "692498               bajo  \n",
              "692499               alto  \n",
              "\n",
              "[692500 rows x 12 columns]"
            ]
          },
          "execution_count": 5,
          "metadata": {},
          "output_type": "execute_result"
        }
      ],
      "source": [
        "import pandas as pd\n",
        "archivo= \"train.csv\"\n",
        "pd.read_csv(archivo)"
      ]
    },
    {
      "cell_type": "code",
      "execution_count": null,
      "metadata": {
        "colab": {
          "base_uri": "https://localhost:8080/",
          "height": 626
        },
        "id": "AN7prMArRs3h",
        "outputId": "be67f082-c1ac-4ce2-ffc1-95d346bff16a"
      },
      "outputs": [
        {
          "data": {
            "image/png": "[encoded data removed]",
            "text/plain": [
              "<Figure size 800x600 with 1 Axes>"
            ]
          },
          "metadata": {},
          "output_type": "display_data"
        }
      ],
      "source": [
        "import pandas as pd\n",
        "import matplotlib.pyplot as plt\n",
        "\n",
        "df = pd.read_csv('train.csv')\n",
        "\n",
        "column_name = 'FAMI_ESTRATOVIVIENDA'\n",
        "\n",
        "plt.figure(figsize=(8,6))\n",
        "df[column_name].value_counts().sort_index().plot(kind='bar')\n",
        "plt.title('Distribución de Estratos')\n",
        "plt.xlabel('Estrato')\n",
        "plt.ylabel('Frecuencia')\n",
        "plt.show()\n"
      ]
    },
    {
      "cell_type": "markdown",
      "metadata": {
        "id": "GD5fnjNOR09X"
      },
      "source": [
        "Nueva sección"
      ]
    },
    {
      "cell_type": "code",
      "execution_count": null,
      "metadata": {
        "colab": {
          "base_uri": "https://localhost:8080/"
        },
        "id": "wIKLH3dtRvpk",
        "outputId": "7661e54c-0ff6-4b92-f902-2a6bc21b7fb0"
      },
      "outputs": [
        {
          "name": "stdout",
          "output_type": "stream",
          "text": [
            "Mounted at /content/drive\n"
          ]
        }
      ],
      "source": [
        "from google.colab import drive\n",
        "drive.mount('/content/drive')"
      ]
    },
    {
      "cell_type": "code",
      "execution_count": null,
      "metadata": {
        "id": "sF9eFz9LEyws"
      },
      "outputs": [],
      "source": [
        "import pandas as pd\n",
        "from sklearn.preprocessing import StandardScaler"
      ]
    },
    {
      "cell_type": "code",
      "execution_count": null,
      "metadata": {
        "id": "gppr32xtE1PV"
      },
      "outputs": [],
      "source": [
        "# Cargamos el dataset\n",
        "df = pd.read_csv('train.csv')"
      ]
    },
    {
      "cell_type": "code",
      "execution_count": null,
      "metadata": {
        "colab": {
          "base_uri": "https://localhost:8080/"
        },
        "id": "7TldrQWBE4f6",
        "outputId": "c87f56bd-37f2-4df8-acd0-31fdc096df52"
      },
      "outputs": [
        {
          "name": "stdout",
          "output_type": "stream",
          "text": [
            "Columnas categóricas: Index(['ESTU_PRGM_ACADEMICO', 'ESTU_PRGM_DEPARTAMENTO',\n",
            "       'ESTU_VALORMATRICULAUNIVERSIDAD', 'ESTU_HORASSEMANATRABAJA',\n",
            "       'FAMI_ESTRATOVIVIENDA', 'FAMI_TIENEINTERNET', 'FAMI_EDUCACIONPADRE',\n",
            "       'FAMI_EDUCACIONMADRE', 'ESTU_PAGOMATRICULAPROPIO',\n",
            "       'RENDIMIENTO_GLOBAL'],\n",
            "      dtype='object')\n"
          ]
        }
      ],
      "source": [
        "# Verificamos las columnas categóricas que contienen strings\n",
        "categorical_columns = df.select_dtypes(include=['object']).columns\n",
        "print(f\"Columnas categóricas: {categorical_columns}\")"
      ]
    },
    {
      "cell_type": "code",
      "execution_count": null,
      "metadata": {
        "colab": {
          "base_uri": "https://localhost:8080/"
        },
        "id": "HzjWQUNPE75M",
        "outputId": "02749a8b-462b-431d-f9aa-e1c9d6bcc90c"
      },
      "outputs": [
        {
          "name": "stdout",
          "output_type": "stream",
          "text": [
            "['Entre 5.5 millones y menos de 7 millones'\n",
            " 'Entre 2.5 millones y menos de 4 millones'\n",
            " 'Entre 4 millones y menos de 5.5 millones' 'Más de 7 millones'\n",
            " 'Entre 1 millón y menos de 2.5 millones'\n",
            " 'Entre 500 mil y menos de 1 millón' 'Menos de 500 mil'\n",
            " 'No pagó matrícula' nan]\n"
          ]
        }
      ],
      "source": [
        "# Revisamos las columnas con valores numéricos pero almacenados como texto\n",
        "print(df['ESTU_VALORMATRICULAUNIVERSIDAD'].unique())"
      ]
    },
    {
      "cell_type": "code",
      "execution_count": null,
      "metadata": {
        "id": "Iu43bP8SE-N5"
      },
      "outputs": [],
      "source": [
        "# Mapeamos los valores de la columna 'ESTU_VALORMATRICULAUNIVERSIDAD' a valores numéricos\n",
        "valormatricula_map = {\n",
        "    'Entre 500 mil y menos de 1 millón': 0.75,\n",
        "    'Entre 1 millón y menos de 2.5 millones': 1.75,\n",
        "    'Entre 2.5 millones y menos de 4 millones': 3.25,\n",
        "    'Entre 4 millones y menos de 5.5 millones': 4.75,\n",
        "    'Entre 5.5 millones y menos de 7 millones': 6.25\n",
        "}\n",
        "\n",
        "df['ESTU_VALORMATRICULAUNIVERSIDAD'] = df['ESTU_VALORMATRICULAUNIVERSIDAD'].map(valormatricula_map)"
      ]
    },
    {
      "cell_type": "code",
      "execution_count": null,
      "metadata": {
        "colab": {
          "base_uri": "https://localhost:8080/"
        },
        "id": "158BkRKpFFI5",
        "outputId": "a3fdfc41-d85f-4593-8848-baf88570f6e0"
      },
      "outputs": [
        {
          "name": "stdout",
          "output_type": "stream",
          "text": [
            "174092\n"
          ]
        }
      ],
      "source": [
        "# Verificamos si hay valores nulos después de la conversión\n",
        "print(df['ESTU_VALORMATRICULAUNIVERSIDAD'].isnull().sum())"
      ]
    },
    {
      "cell_type": "code",
      "execution_count": null,
      "metadata": {
        "id": "va2eJVn2FITB"
      },
      "outputs": [],
      "source": [
        "# Convertimos el resto de las columnas categóricas en one-hot encoding\n",
        "df_final = pd.get_dummies(df, drop_first=True)"
      ]
    },
    {
      "cell_type": "code",
      "execution_count": null,
      "metadata": {
        "id": "2XtxaL0KFOcO"
      },
      "outputs": [],
      "source": [
        "# Normalizamos las columnas numéricas\n",
        "numerical_columns = df_final.select_dtypes(include=['int64', 'float64']).columns"
      ]
    },
    {
      "cell_type": "code",
      "execution_count": null,
      "metadata": {
        "colab": {
          "base_uri": "https://localhost:8080/"
        },
        "id": "fjyDGcJlFQwr",
        "outputId": "f29543ac-0435-498c-c42d-faab06088696"
      },
      "outputs": [
        {
          "name": "stdout",
          "output_type": "stream",
          "text": [
            "\n",
            "Dataset con variables numéricas normalizadas:\n",
            "         ID   PERIODO  ESTU_VALORMATRICULAUNIVERSIDAD  \\\n",
            "0  1.434424  1.294094                        2.238811   \n",
            "1  0.527513  1.294094                        0.344422   \n",
            "2 -0.652132  0.439801                        0.344422   \n",
            "3 -0.084924 -0.319570                        1.291616   \n",
            "4  1.731274  1.294094                        0.344422   \n",
            "\n",
            "   ESTU_PRGM_ACADEMICO_ACTIVIDAD FISICA Y DEPORTE  \\\n",
            "0                                           False   \n",
            "1                                           False   \n",
            "2                                           False   \n",
            "3                                           False   \n",
            "4                                           False   \n",
            "\n",
            "   ESTU_PRGM_ACADEMICO_ACUICULTURA  ESTU_PRGM_ACADEMICO_ADMINISTRACION  \\\n",
            "0                            False                               False   \n",
            "1                            False                               False   \n",
            "2                            False                               False   \n",
            "3                            False                               False   \n",
            "4                            False                               False   \n",
            "\n",
            "   ESTU_PRGM_ACADEMICO_ADMINISTRACION  FINANCIERA  \\\n",
            "0                                           False   \n",
            "1                                           False   \n",
            "2                                           False   \n",
            "3                                           False   \n",
            "4                                           False   \n",
            "\n",
            "   ESTU_PRGM_ACADEMICO_ADMINISTRACION & SERVICIO  \\\n",
            "0                                          False   \n",
            "1                                          False   \n",
            "2                                          False   \n",
            "3                                          False   \n",
            "4                                          False   \n",
            "\n",
            "   ESTU_PRGM_ACADEMICO_ADMINISTRACION AERONAUTICA  \\\n",
            "0                                           False   \n",
            "1                                           False   \n",
            "2                                           False   \n",
            "3                                           False   \n",
            "4                                           False   \n",
            "\n",
            "   ESTU_PRGM_ACADEMICO_ADMINISTRACION AGROPECUARIA  ...  \\\n",
            "0                                            False  ...   \n",
            "1                                            False  ...   \n",
            "2                                            False  ...   \n",
            "3                                            False  ...   \n",
            "4                                            False  ...   \n",
            "\n",
            "   FAMI_EDUCACIONMADRE_Primaria completa  \\\n",
            "0                                  False   \n",
            "1                                  False   \n",
            "2                                  False   \n",
            "3                                  False   \n",
            "4                                   True   \n",
            "\n",
            "   FAMI_EDUCACIONMADRE_Primaria incompleta  \\\n",
            "0                                    False   \n",
            "1                                    False   \n",
            "2                                    False   \n",
            "3                                    False   \n",
            "4                                    False   \n",
            "\n",
            "   FAMI_EDUCACIONMADRE_Secundaria (Bachillerato) completa  \\\n",
            "0                                              False        \n",
            "1                                              False        \n",
            "2                                               True        \n",
            "3                                               True        \n",
            "4                                              False        \n",
            "\n",
            "   FAMI_EDUCACIONMADRE_Secundaria (Bachillerato) incompleta  \\\n",
            "0                                              False          \n",
            "1                                              False          \n",
            "2                                              False          \n",
            "3                                              False          \n",
            "4                                              False          \n",
            "\n",
            "   FAMI_EDUCACIONMADRE_Técnica o tecnológica completa  \\\n",
            "0                                              False    \n",
            "1                                              False    \n",
            "2                                              False    \n",
            "3                                              False    \n",
            "4                                              False    \n",
            "\n",
            "   FAMI_EDUCACIONMADRE_Técnica o tecnológica incompleta  \\\n",
            "0                                              False      \n",
            "1                                               True      \n",
            "2                                              False      \n",
            "3                                              False      \n",
            "4                                              False      \n",
            "\n",
            "   ESTU_PAGOMATRICULAPROPIO_Si  RENDIMIENTO_GLOBAL_bajo  \\\n",
            "0                        False                    False   \n",
            "1                        False                     True   \n",
            "2                        False                     True   \n",
            "3                        False                    False   \n",
            "4                        False                    False   \n",
            "\n",
            "   RENDIMIENTO_GLOBAL_medio-alto  RENDIMIENTO_GLOBAL_medio-bajo  \n",
            "0                           True                          False  \n",
            "1                          False                          False  \n",
            "2                          False                          False  \n",
            "3                          False                          False  \n",
            "4                          False                           True  \n",
            "\n",
            "[5 rows x 1017 columns]\n"
          ]
        }
      ],
      "source": [
        "# Normalizamos utilizando StandardScaler\n",
        "scaler = StandardScaler()\n",
        "df_final[numerical_columns] = scaler.fit_transform(df_final[numerical_columns])\n",
        "\n",
        "print(\"\\nDataset con variables numéricas normalizadas:\")\n",
        "print(df_final.head())"
      ]
    },
    {
      "cell_type": "code",
      "execution_count": null,
      "metadata": {
        "colab": {
          "base_uri": "https://localhost:8080/"
        },
        "id": "EnzuRXTJ2D9y",
        "outputId": "9a976992-bd77-4f5a-fec8-46bb20b06ce6"
      },
      "outputs": [
        {
          "name": "stdout",
          "output_type": "stream",
          "text": [
            "ID                                    0\n",
            "PERIODO                               0\n",
            "ESTU_PRGM_ACADEMICO                   0\n",
            "ESTU_PRGM_DEPARTAMENTO                0\n",
            "ESTU_VALORMATRICULAUNIVERSIDAD        0\n",
            "ESTU_HORASSEMANATRABAJA           30857\n",
            "FAMI_ESTRATOVIVIENDA              32137\n",
            "FAMI_TIENEINTERNET                26629\n",
            "FAMI_EDUCACIONPADRE               23178\n",
            "FAMI_EDUCACIONMADRE               23664\n",
            "ESTU_PAGOMATRICULAPROPIO           6498\n",
            "RENDIMIENTO_GLOBAL                    0\n",
            "dtype: int64\n"
          ]
        }
      ],
      "source": [
        "# Seleccionar solo las columnas numéricas\n",
        "numeric_columns = df.select_dtypes(include=['float64', 'int64']).columns\n",
        "\n",
        "# Imputar datos faltantes solo en las columnas numéricas utilizando la mediana\n",
        "df[numeric_columns] = df[numeric_columns].fillna(df[numeric_columns].median())\n",
        "\n",
        "# Mostrar cuántos valores faltantes quedan en el dataset (si quedan)\n",
        "print(df.isnull().sum())\n"
      ]
    }
  ],
  "metadata": {
    "colab": {
      "provenance": [],
      "authorship_tag": "ABX9TyMbxqZ9yqHqZoEOAWxlfO36",
      "include_colab_link": true
    },
    "kernelspec": {
      "display_name": "Python 3",
      "name": "python3"
    },
    "language_info": {
      "name": "python"
    }
  },
  "nbformat": 4,
  "nbformat_minor": 0
}